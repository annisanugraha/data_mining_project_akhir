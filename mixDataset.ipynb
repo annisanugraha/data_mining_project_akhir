{
  "nbformat": 4,
  "nbformat_minor": 0,
  "metadata": {
    "colab": {
      "provenance": []
    },
    "kernelspec": {
      "name": "python3",
      "display_name": "Python 3"
    },
    "language_info": {
      "name": "python"
    }
  },
  "cells": [
    {
      "cell_type": "code",
      "source": [
        "# Mount Google Drive\n",
        "from google.colab import drive\n",
        "drive.mount('/content/drive')"
      ],
      "metadata": {
        "colab": {
          "base_uri": "https://localhost:8080/"
        },
        "id": "kTcgJV45ShL2",
        "outputId": "1197fcda-55f8-46b7-d648-dd7fdd410ac3"
      },
      "execution_count": null,
      "outputs": [
        {
          "output_type": "stream",
          "name": "stdout",
          "text": [
            "Mounted at /content/drive\n"
          ]
        }
      ]
    },
    {
      "cell_type": "code",
      "execution_count": null,
      "metadata": {
        "colab": {
          "base_uri": "https://localhost:8080/"
        },
        "id": "ZXH58qHFRLDT",
        "outputId": "282f9a4d-6c3d-48b9-d561-06a397715815"
      },
      "outputs": [
        {
          "output_type": "stream",
          "name": "stdout",
          "text": [
            "Dataset berhasil digabungkan dan disimpan di: /content/drive/My Drive/dataset/Combined_Dataset.csv\n"
          ]
        }
      ],
      "source": [
        "import pandas as pd\n",
        "\n",
        "# Path ke dataset di Google Drive\n",
        "fake_path = '/content/drive/MyDrive/dataset/Fake.csv'\n",
        "true_path = '/content/drive/MyDrive/dataset/True.csv'\n",
        "indo_path = '/content/drive/MyDrive/dataset/Indonesian.csv'\n",
        "\n",
        "# Load datasets\n",
        "fake = pd.read_csv(fake_path)\n",
        "real = pd.read_csv(true_path)\n",
        "indo = pd.read_csv(indo_path)\n",
        "\n",
        "# Tambahkan label untuk setiap dataset\n",
        "fake['label'] = 1  # Fake (berita palsu)\n",
        "real['label'] = 0  # Real (berita asli)\n",
        "\n",
        "# Pastikan kolom 'label' di Indonesian.csv berupa string\n",
        "indo['label'] = indo['label'].astype(str)\n",
        "\n",
        "# Konversi 'fake' menjadi 1 dan 'real' menjadi 0\n",
        "indo['label'] = indo['label'].apply(lambda x: 1 if x.lower() == 'fake' else 0)\n",
        "\n",
        "# Gabungkan kolom teks dari semua dataset menjadi satu format seragam\n",
        "fake = fake.rename(columns={'text': 'text'})  # Pastikan kolom nama \"text\" seragam\n",
        "real = real.rename(columns={'text': 'text'})\n",
        "indo = indo.rename(columns={'text': 'text'})\n",
        "\n",
        "# Gabungkan semua dataset\n",
        "combined = pd.concat([fake, real, indo], axis=0).reset_index(drop=True)\n",
        "\n",
        "# Simpan hasil penggabungan ke Google Drive\n",
        "output_path = '/content/drive/My Drive/dataset/Combined_Dataset.csv'\n",
        "combined.to_csv(output_path, index=False)\n",
        "print(f\"Dataset berhasil digabungkan dan disimpan di: {output_path}\")\n"
      ]
    }
  ]
}